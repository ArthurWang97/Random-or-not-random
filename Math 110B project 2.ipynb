{
 "cells": [
  {
   "cell_type": "markdown",
   "metadata": {},
   "source": [
    "# Math 110B Project 2\n",
    "# Yuxuan Wang 32614564"
   ]
  },
  {
   "cell_type": "code",
   "execution_count": 1,
   "metadata": {},
   "outputs": [],
   "source": [
    "# generate a vector of random numbers which obeys the given distribution.\n",
    "#\n",
    "# n: length of the vector\n",
    "# mu: mean value\n",
    "# sigma: standard deviation.\n",
    "# dist: choices for the distribution, you need to implement at least normal \n",
    "#       distribution and uniform distribution.\n",
    "#\n",
    "# For normal distribution, you can use ``numpy.random.normal`` to generate.\n",
    "# For uniform distribution, the interval to sample will be [mu - sigma/sqrt(3), mu + sigma/sqrt(3)].\n",
    "\n",
    "import numpy as np\n",
    "import matplotlib.pyplot as plt\n",
    "\n",
    "def generate_random_numbers(n, mu, sigma, dist=\"normal\"):\n",
    "    low = mu - (sigma/np.sqrt(3))\n",
    "    high = mu + (sigma/np.sqrt(3))\n",
    "    if dist == \"normal\":\n",
    "        return np.random.normal(mu, sigma, n)\n",
    "    elif dist == \"uniform\":\n",
    "        return np.random.uniform(low, high, n)\n",
    "    else:\n",
    "        raise Exception(\"The distribution {unknown_dist} is not implemented\".format(unknown_dist=dist))\n",
    "        \n",
    "        \n"
   ]
  },
  {
   "cell_type": "code",
   "execution_count": 2,
   "metadata": {},
   "outputs": [
    {
     "data": {
      "text/plain": [
       "array([ 0.14761624, -0.07790931, -0.14542883,  0.10768686, -0.06609517])"
      ]
     },
     "execution_count": 2,
     "metadata": {},
     "output_type": "execute_result"
    }
   ],
   "source": [
    "# test your code:\n",
    "y_test = generate_random_numbers(5, 0, 0.1, \"normal\")\n",
    "y_test"
   ]
  },
  {
   "cell_type": "markdown",
   "metadata": {},
   "source": [
    "# Task 1"
   ]
  },
  {
   "cell_type": "code",
   "execution_count": 3,
   "metadata": {},
   "outputs": [],
   "source": [
    "np.random.seed(42)\n",
    "y1 = generate_random_numbers(105, 0.5, 1.0, \"normal\")\n",
    "y2 = generate_random_numbers(105, 0.5, 1.0, \"uniform\")\n"
   ]
  },
  {
   "cell_type": "code",
   "execution_count": 4,
   "metadata": {},
   "outputs": [
    {
     "name": "stdout",
     "output_type": "stream",
     "text": [
      "y1 is : [ 9.96714153e-01  3.61735699e-01  1.14768854e+00  2.02302986e+00\n",
      "  2.65846625e-01  2.65863043e-01  2.07921282e+00  1.26743473e+00\n",
      "  3.05256141e-02  1.04256004e+00  3.65823072e-02  3.42702464e-02\n",
      "  7.41962272e-01 -1.41328024e+00 -1.22491783e+00 -6.22875292e-02\n",
      " -5.12831120e-01  8.14247333e-01 -4.08024076e-01 -9.12303701e-01\n",
      "  1.96564877e+00  2.74223700e-01  5.67528205e-01 -9.24748186e-01\n",
      " -4.43827245e-02  6.10922590e-01 -6.50993577e-01  8.75698018e-01\n",
      " -1.00638690e-01  2.08306250e-01 -1.01706612e-01  2.35227818e+00\n",
      "  4.86502775e-01 -5.57710929e-01  1.32254491e+00 -7.20843650e-01\n",
      "  7.08863595e-01 -1.45967012e+00 -8.28186049e-01  6.96861236e-01\n",
      "  1.23846658e+00  6.71368281e-01  3.84351718e-01  1.98896304e-01\n",
      " -9.78521990e-01 -2.19844208e-01  3.93612290e-02  1.55712223e+00\n",
      "  8.43618290e-01 -1.26304016e+00  8.24083969e-01  1.14917720e-01\n",
      " -1.76922000e-01  1.11167629e+00  1.53099952e+00  1.43128012e+00\n",
      " -3.39217523e-01  1.90787624e-01  8.31263431e-01  1.47554513e+00\n",
      "  2.08257622e-02  3.14341023e-01 -6.06334974e-01 -6.96206624e-01\n",
      "  1.31252582e+00  1.85624003e+00  4.27989878e-01  1.50353290e+00\n",
      "  8.61636025e-01 -1.45119755e-01  8.61395606e-01  2.03803657e+00\n",
      "  4.64173961e-01  2.06464366e+00 -2.11974510e+00  1.32190250e+00\n",
      "  5.87047068e-01  2.00992650e-01  5.91760777e-01 -1.48756891e+00\n",
      "  2.80328112e-01  8.57112572e-01  1.97789404e+00 -1.82702183e-02\n",
      " -3.08493603e-01 -1.75704358e-03  1.41540212e+00  8.28751110e-01\n",
      " -2.97602038e-02  1.01326743e+00  5.97077549e-01  1.46864499e+00\n",
      " -2.02053094e-01  1.72337853e-01  1.07891847e-01 -9.63514948e-01\n",
      "  7.96120277e-01  7.61055272e-01  5.05113457e-01  2.65412867e-01\n",
      " -9.15370742e-01  7.93546772e-02  1.57285483e-01 -3.02277269e-01\n",
      "  3.38714288e-01]\n",
      "mean of y1 is: 0.3711719495081947\n",
      "y2 is : [ 0.52169754  0.7344261   0.34253303  1.04476702  1.03398814  0.21338288\n",
      "  0.49682285  0.27007408  0.2515552  -0.03475689  0.626514    0.50309347\n",
      " -0.01790773  0.24440295  0.97142484  0.19927197  0.08995992  0.4878211\n",
      "  1.06078084  0.20215108  0.69876501  0.80209231  0.19704993  0.76352154\n",
      "  0.34732911  0.65277361  0.65418683  0.54130905  0.02690738  0.88717397\n",
      "  0.29305464  0.13802276 -0.03026719  0.60495413  0.70503366 -0.05819629\n",
      "  0.51396386  0.18418452  0.6676311   0.12399074  0.72047591  0.36921324\n",
      "  1.00429235  0.08144524  0.31647923  0.05367767  0.99039395  0.93571395\n",
      "  0.22049507  0.68473366  0.86629665  0.56374041  0.53423754  0.2019167\n",
      "  0.03015555  0.95866525  0.96236295  0.65369232  0.31412761  0.32588221\n",
      "  0.76091114  0.95854343  0.9469689   0.82317244  0.66400402  0.01980619\n",
      "  0.10928249  0.96021074  0.62289369 -0.06673043  0.03981898  0.68879558\n",
      " -0.07150566  0.10833487  0.55627293  0.72158149  0.67546975  0.18161362\n",
      "  0.74500346  0.19660138  0.29838894  0.78462376  0.67278119  0.90324846\n",
      "  0.68199569  0.57887598  0.03081604  0.34725137  0.22887905  0.2043847\n",
      "  1.04618554  0.37655989  0.95269637  0.65142584  0.84041877  0.50304505\n",
      "  0.58880096  0.49136018  0.14809691  0.75686558  0.24685773 -0.04927261\n",
      "  0.66797694  0.12715953  1.00859776]\n",
      "mean of y2 is: 0.49021475410775794\n"
     ]
    }
   ],
   "source": [
    "print(\"y1 is :\", y1)\n",
    "print(\"mean of y1 is:\", np.mean(y1))\n",
    "print(\"y2 is :\", y2)\n",
    "print(\"mean of y2 is:\", np.mean(y2))\n"
   ]
  },
  {
   "cell_type": "code",
   "execution_count": 5,
   "metadata": {},
   "outputs": [],
   "source": [
    "# Two orderings to experiment with\n",
    "# Random ordering with replacement In this case, we do not choose the fixed ordering, we sample a number in  {1,2,…,n}  each time and follow the iteration.\n",
    "\n",
    "# Random ordering without replacement In this case, we do not choose the fixed ordering, we sample an ordering without replacement from  {1,2,…,n}  and then follow the iteration."
   ]
  },
  {
   "cell_type": "code",
   "execution_count": 6,
   "metadata": {},
   "outputs": [],
   "source": [
    "# IGD, the ordering is permitted to have replacement. \n",
    "#\n",
    "#\n",
    "def IGD_wr_task1(y):\n",
    "    n = len(y)\n",
    "#     np.random.seed(42)\n",
    "    ordering = np.random.choice(n, n, replace=True)\n",
    "    history = np.zeros(n)\n",
    "    x = 0\n",
    "    for i in range(n):\n",
    "        a = 0\n",
    "        for j in range(n):\n",
    "            a += (x - y[j])**2\n",
    "        history[i] = (1/2)*a\n",
    "        x = x - (1e-3/(i+1))*(x - y[ordering[i]])\n",
    "#         x = x - (1/(i+1))*(x - y[ordering[i]])\n",
    "    \n",
    "    return history, x\n",
    "    # implement the algorithm's iteration of IGD. Your result should return the the final xk\n",
    "    # at the last iteration and also the history of objective function at each xk.\n",
    "    \n",
    "\n",
    "\n",
    "# IGD, the ordering is not permitted to have replacement.\n",
    "#\n",
    "#\n",
    "def IGD_wo_task1(y):\n",
    "    n = len(y)\n",
    "#     np.random.seed(42)\n",
    "    ordering = np.random.choice(n, n, replace = False)\n",
    "    history = np.zeros(n)\n",
    "    x = 0\n",
    "    for i in range(n):\n",
    "        a = 0\n",
    "        for j in range(n):\n",
    "            a += (x - y[j])**2\n",
    "        history[i] = (1/2)*a\n",
    "        x = x - (1e-3/(i+1))*(x - y[ordering[i]])\n",
    "#         x = x - (1/(i+1))*(x - y[ordering[i]])\n",
    " \n",
    "    return history, x\n",
    "    # implement the algorithm's iteration of IGD. Your result should return the the final xk\n",
    "    # at the last iteration and also the history of objective function at each xk.\n",
    "    "
   ]
  },
  {
   "cell_type": "code",
   "execution_count": 7,
   "metadata": {},
   "outputs": [
    {
     "data": {
      "text/plain": [
       "0.0008523729141803835"
      ]
     },
     "execution_count": 7,
     "metadata": {},
     "output_type": "execute_result"
    }
   ],
   "source": [
    "[wr_history1, x] = IGD_wr_task1(y1)\n",
    "x"
   ]
  },
  {
   "cell_type": "code",
   "execution_count": 8,
   "metadata": {},
   "outputs": [
    {
     "data": {
      "text/plain": [
       "0.0024974347614731772"
      ]
     },
     "execution_count": 8,
     "metadata": {},
     "output_type": "execute_result"
    }
   ],
   "source": [
    "[wr_history2, x] = IGD_wr_task1(y2)\n",
    "x"
   ]
  },
  {
   "cell_type": "code",
   "execution_count": 9,
   "metadata": {},
   "outputs": [
    {
     "data": {
      "text/plain": [
       "0.0023455826261286885"
      ]
     },
     "execution_count": 9,
     "metadata": {},
     "output_type": "execute_result"
    }
   ],
   "source": [
    "[wo_history1, x] = IGD_wo_task1(y1)\n",
    "x"
   ]
  },
  {
   "cell_type": "code",
   "execution_count": 10,
   "metadata": {},
   "outputs": [
    {
     "data": {
      "text/plain": [
       "0.003582133624365066"
      ]
     },
     "execution_count": 10,
     "metadata": {},
     "output_type": "execute_result"
    }
   ],
   "source": [
    "[wo_history2, x] = IGD_wo_task1(y2)\n",
    "x"
   ]
  },
  {
   "cell_type": "code",
   "execution_count": 11,
   "metadata": {
    "scrolled": true
   },
   "outputs": [
    {
     "data": {
      "image/png": "[encoded data removed]",
      "text/plain": [
       "<Figure size 432x288 with 1 Axes>"
      ]
     },
     "metadata": {
      "needs_background": "light"
     },
     "output_type": "display_data"
    }
   ],
   "source": [
    "plt.plot(np.arange(105), wr_history1, 'b', label = 'with replacement')\n",
    "plt.plot(np.arange(105), wo_history1, 'r', label = 'without replacement')\n",
    "titley1 = 'normal distribution'\n",
    "plt.title(titley1)\n",
    "plt.legend()\n",
    "\n",
    "plt.show()"
   ]
  },
  {
   "cell_type": "code",
   "execution_count": 12,
   "metadata": {
    "scrolled": false
   },
   "outputs": [
    {
     "data": {
      "image/png": "[encoded data removed]",
      "text/plain": [
       "<Figure size 432x288 with 1 Axes>"
      ]
     },
     "metadata": {
      "needs_background": "light"
     },
     "output_type": "display_data"
    }
   ],
   "source": [
    "plt.plot(np.arange(105), wr_history2, 'b', label = 'with replacement')\n",
    "plt.plot(np.arange(105), wo_history2, 'r', label = 'without replacement')\n",
    "titley2 = 'uniform distribution'\n",
    "plt.title(titley2)\n",
    "plt.legend()\n",
    "\n",
    "plt.show()"
   ]
  },
  {
   "cell_type": "code",
   "execution_count": 13,
   "metadata": {},
   "outputs": [
    {
     "data": {
      "image/png": "[encoded data removed]",
      "text/plain": [
       "<Figure size 432x288 with 1 Axes>"
      ]
     },
     "metadata": {
      "needs_background": "light"
     },
     "output_type": "display_data"
    },
    {
     "data": {
      "image/png": "[encoded data removed]",
      "text/plain": [
       "<Figure size 432x288 with 1 Axes>"
      ]
     },
     "metadata": {
      "needs_background": "light"
     },
     "output_type": "display_data"
    }
   ],
   "source": [
    "n = 105\n",
    "test = 200\n",
    "wr_historyy1s = np.zeros(n)\n",
    "wo_historyy1s = np.zeros(n)\n",
    "wr_historyy2s = np.zeros(n)\n",
    "wo_historyy2s = np.zeros(n)\n",
    "\n",
    "for k in range(test):\n",
    "    y1 = generate_random_numbers(n, 0.5, 1.0, \"normal\")\n",
    "    y2 = generate_random_numbers(n, 0.5, 1.0, \"uniform\")\n",
    "    [wr_history1, x] = IGD_wr_task1(y1)\n",
    "    [wo_history1, x] = IGD_wo_task1(y1)\n",
    "    [wr_history2, x] = IGD_wr_task1(y2)\n",
    "    [wo_history2, x] = IGD_wo_task1(y2)\n",
    "    \n",
    "    wr_historyy1s += wr_history1\n",
    "    wo_historyy1s += wo_history1\n",
    "    wr_historyy2s += wr_history2\n",
    "    wo_historyy2s += wo_history2\n",
    "\n",
    "plt.plot(np.arange(105), wr_historyy1s/test, 'b', label = 'with replacement')\n",
    "plt.plot(np.arange(105), wo_historyy1s/test, 'r', label = 'without replacement')\n",
    "titley2 = 'normal distribution'\n",
    "plt.title(titley2)\n",
    "plt.legend()\n",
    "\n",
    "plt.show()\n",
    "\n",
    "plt.plot(np.arange(105), wr_historyy2s/test, 'b', label = 'with replacement')\n",
    "plt.plot(np.arange(105), wo_historyy2s/test, 'r', label = 'without replacement')\n",
    "titley2 = 'uniform distribution'\n",
    "plt.title(titley2)\n",
    "plt.legend()\n",
    "\n",
    "plt.show()"
   ]
  },
  {
   "cell_type": "markdown",
   "metadata": {},
   "source": [
    "## The steps are chosen using a without-replacement sampling strategy is better since it converges to the smaple mean: 0.3711 and 0.4902 with step length 1/(k+1), for sample y1 and y2 respectively. Also, by changing the step length from 1/(k+1) to 0.001/(k+1), we can observe better from the plot that without replacement strategy has smaller and smaller objective function value during each iteration, which imples it is converging better than the with replacement strategy.\n",
    "## With 200 tests and take the average, by plotting,  we can tell that the two stragegy's objection function values will overlap but without-replacement sampling strategy is better."
   ]
  },
  {
   "cell_type": "markdown",
   "metadata": {},
   "source": [
    "# Task 2"
   ]
  },
  {
   "cell_type": "code",
   "execution_count": 14,
   "metadata": {},
   "outputs": [],
   "source": [
    "# IGD, the ordering is permitted to have replacement. \n",
    "#\n",
    "#\n",
    "beta = np.random.uniform(1,2,105)\n",
    "\n",
    "def IGD_wr_task2(beta, y):\n",
    "    n = len(beta)\n",
    "    ordering = np.random.choice(n, n, replace=True)\n",
    "    np.random.seed(42)\n",
    "    gamma = 0.1*min(1/beta)\n",
    "    \n",
    "    history = np.zeros(n)\n",
    "    subsqrt = np.zeros(n)\n",
    "    xstorewr = np.zeros(n+1)\n",
    "    x = 0\n",
    "    \n",
    "    for i in range(n):\n",
    "        a = 0\n",
    "        for j in range(n):\n",
    "            a += beta[j]*((x - y)**2)\n",
    "        subsqrt[i] = a\n",
    "        history[i] = (1/2)*subsqrt[i]\n",
    "        x = x - gamma * beta[ordering[i]]*(x - y)\n",
    "        xstorewr[i+1] = x\n",
    "\n",
    "    return history, xstorewr, x\n",
    "    # implement the algorithm's iteration of IGD. Your result should return the the final xk\n",
    "    # at the last iteration and also the history of objective function at each xk.\n",
    "\n",
    "\n",
    "# IGD, the ordering is not permitted to have replacement.\n",
    "#\n",
    "#\n",
    "def IGD_wo_task2(beta, y):\n",
    "    n = len(beta)\n",
    "    ordering = np.random.choice(n, n, replace=False)\n",
    "    np.random.seed(42)\n",
    "    beta = np.random.uniform(1,2,n)\n",
    "    gamma = 0.1*min(1/beta)\n",
    "    \n",
    "    history = np.zeros(n)\n",
    "    subsqrt = np.zeros(n)\n",
    "    xstorewo = np.zeros(n+1)\n",
    "    x = 0\n",
    "    \n",
    "    for i in range(n):\n",
    "        a = 0\n",
    "        for j in range(n):\n",
    "            a += beta[j]*((x - y)**2)\n",
    "            \n",
    "        subsqrt[i] = a\n",
    "        history[i] = (1/2)*subsqrt[i]\n",
    "        x = x - gamma * beta[ordering[i]]*(x - y)\n",
    "        xstorewo[i+1] = x\n",
    "\n",
    "    return history, xstorewo, x\n",
    "    # implement the algorithm's iteration of IGD. Your result should return the the final xk\n",
    "    # at the last iteration and also the history of objective function at each xk.\n"
   ]
  },
  {
   "cell_type": "code",
   "execution_count": 15,
   "metadata": {},
   "outputs": [
    {
     "data": {
      "text/plain": [
       "49.97845744231676"
      ]
     },
     "execution_count": 15,
     "metadata": {},
     "output_type": "execute_result"
    }
   ],
   "source": [
    "[wr_history2, xstorewr, x] = IGD_wr_task2(beta, 50)\n",
    "x"
   ]
  },
  {
   "cell_type": "code",
   "execution_count": 16,
   "metadata": {
    "scrolled": false
   },
   "outputs": [
    {
     "data": {
      "text/plain": [
       "(106,)"
      ]
     },
     "execution_count": 16,
     "metadata": {},
     "output_type": "execute_result"
    }
   ],
   "source": [
    "xstorewr.shape"
   ]
  },
  {
   "cell_type": "code",
   "execution_count": 17,
   "metadata": {},
   "outputs": [
    {
     "data": {
      "text/plain": [
       "49.98464033492947"
      ]
     },
     "execution_count": 17,
     "metadata": {},
     "output_type": "execute_result"
    }
   ],
   "source": [
    "[wo_history2, xstorewo, x] = IGD_wo_task2(beta, 50)\n",
    "x"
   ]
  },
  {
   "cell_type": "code",
   "execution_count": 18,
   "metadata": {
    "scrolled": true
   },
   "outputs": [
    {
     "data": {
      "image/png": "[encoded data removed]",
      "text/plain": [
       "<Figure size 432x288 with 1 Axes>"
      ]
     },
     "metadata": {
      "needs_background": "light"
     },
     "output_type": "display_data"
    }
   ],
   "source": [
    "plt.plot(np.arange(105), wr_history2, 'b', label = 'with replacement')\n",
    "plt.plot(np.arange(105), wo_history2, 'r', label = 'without replacement')\n",
    "\n",
    "plt.legend()\n",
    "plt.show()"
   ]
  },
  {
   "cell_type": "code",
   "execution_count": 19,
   "metadata": {},
   "outputs": [
    {
     "data": {
      "image/png": "[encoded data removed]",
      "text/plain": [
       "<Figure size 432x288 with 1 Axes>"
      ]
     },
     "metadata": {
      "needs_background": "light"
     },
     "output_type": "display_data"
    }
   ],
   "source": [
    "plt.plot(np.arange(106), xstorewr, 'b', label = 'with replacement')\n",
    "plt.plot(np.arange(106), xstorewo, 'r', label = 'without replacement')\n",
    "\n",
    "plt.legend()\n",
    "plt.show()"
   ]
  },
  {
   "cell_type": "markdown",
   "metadata": {},
   "source": [
    "## The steps are chosen using a without-replacement sampling strategy is better . Even though, the plot showing that two strategys objection function values for each step is nearly overlaping, we plot the x values for each iteration will find out that without-replacement sampling strategy is converging faster. Also, if we change the parameter 0.95 into 0.1, we will find that the red line, representing without-replacement strategy objection function value, is below the blue line which shows converging faster."
   ]
  },
  {
   "cell_type": "markdown",
   "metadata": {},
   "source": [
    "# Task 3"
   ]
  },
  {
   "cell_type": "code",
   "execution_count": 28,
   "metadata": {},
   "outputs": [],
   "source": [
    "# generation of exact solution and data y and matrix A.\n",
    "\n",
    "def generate_problem_task3(m, n, rho):\n",
    "    A = np.random.normal(0., 1.0, (m, n))\n",
    "    x = np.random.random(n) # uniform in (0,1)\n",
    "    w = np.random.normal(0., rho, m)\n",
    "    y = A@x + w\n",
    "    return A, x, y"
   ]
  },
  {
   "cell_type": "code",
   "execution_count": 29,
   "metadata": {},
   "outputs": [],
   "source": [
    "# We generate the problem with 200x100 matrix. rho as 0.01.\n",
    "#\n",
    "A, xstar, y = generate_problem_task3(200, 100, 0.01)"
   ]
  },
  {
   "cell_type": "code",
   "execution_count": 30,
   "metadata": {},
   "outputs": [],
   "source": [
    "# In these two functions, we could only focus on the first n steps and try to make comparisons on these data only.\n",
    "# In practice, it requires more iterations to converge, due to the matrix might not be easy to deal with.\n",
    "# You can put the ordering loop into a naive loop: namely, we simply perform the IGD code several rounds.\n",
    "#\n",
    "#\n",
    "#\n",
    "# IGD, the ordering is permitted to have replacement. \n",
    "#\n",
    "#\n",
    "def IGD_wr_task3(y, A):\n",
    "    n = A.shape[0]\n",
    "    \n",
    "    ordering = np.random.choice(n, n, replace = True)\n",
    "    x = np.zeros(A.shape[1])\n",
    "    rho = 1e-3\n",
    "    history = np.zeros(n)\n",
    "    xstore = np.zeros([A.shape[1], n+1])\n",
    "    \n",
    "    for i in range(n):\n",
    "        s = 0\n",
    "        for j in range(n):\n",
    "            a = A[j,:]\n",
    "            s += (np.matmul(a, x) - y[j])**2\n",
    "        history[i] = s\n",
    "        v = A[ordering[i], :]\n",
    "        k = rho * ((v @ x) - y[ordering[i]]) # scalar\n",
    "        x = x - k * v\n",
    "        xstore[:, i+1] = x\n",
    "        \n",
    "    return history, x, xstore\n",
    "    # implement the algorithm's iteration of IGD. Your result should return the the final xk\n",
    "    # at the last iteration and also the history of objective function at each xk.\n",
    "\n",
    "\n",
    "# IGD, the ordering is not permitted to have replacement.\n",
    "#\n",
    "#\n",
    "def IGD_wo_task3(y, A):\n",
    "    n = A.shape[0]\n",
    "    \n",
    "    ordering = np.random.choice(n, n, replace = False)\n",
    "    x = np.zeros(A.shape[1])\n",
    "    rho = 1e-3\n",
    "    history = np.zeros(n)\n",
    "    xstore = np.zeros([A.shape[1], n+1])\n",
    "    \n",
    "    for i in range(n):\n",
    "        s = 0\n",
    "        for j in range(n):\n",
    "            a = A[j,:]\n",
    "            s += (np.matmul(a, x) - y[j])**2\n",
    "        history[i] = s\n",
    "        v = A[ordering[i], :]\n",
    "        k = rho * ((v @ x) - y[ordering[i]]) # scalar\n",
    "        x = x - k * v\n",
    "        xstore[:, i+1] = x\n",
    "        \n",
    "    return history, x, xstore\n",
    "    # implement the algorithm's iteration of IGD. Your result should return the the final xk\n",
    "    # at the last iteration and also the history of objective function at each xk.\n"
   ]
  },
  {
   "cell_type": "code",
   "execution_count": 31,
   "metadata": {},
   "outputs": [
    {
     "data": {
      "text/plain": [
       "array([-0.05019223, -0.02977589,  0.03235441,  0.22200256, -0.09341607,\n",
       "       -0.13281703,  0.22678577,  0.03234012,  0.17061469,  0.30949653,\n",
       "        0.08208573,  0.13323931,  0.07043162,  0.04823547,  0.15070822,\n",
       "        0.17374349, -0.09862381,  0.11829961,  0.05809831,  0.07863961,\n",
       "        0.03156411, -0.02912556,  0.26877937, -0.07838796,  0.01217622,\n",
       "        0.06818137,  0.13315346,  0.04854619, -0.10049974,  0.1925628 ,\n",
       "        0.28612619,  0.069769  ,  0.11919163,  0.08185966,  0.15159768,\n",
       "        0.1320238 , -0.01363412,  0.05996929,  0.06394171,  0.17493484,\n",
       "        0.07811583, -0.0464765 ,  0.21290254,  0.0221108 ,  0.00966347,\n",
       "        0.23812823,  0.06660074,  0.05762978,  0.00608154, -0.02240305,\n",
       "       -0.07276234,  0.25406478,  0.14184662,  0.07602986,  0.10996207,\n",
       "        0.04238214, -0.0857632 , -0.10622945,  0.05913204,  0.03820358,\n",
       "        0.1577866 ,  0.00049347,  0.11256839,  0.10186874,  0.19608544,\n",
       "        0.0634032 ,  0.0136446 ,  0.03528894,  0.25494674,  0.07936078,\n",
       "       -0.02661711, -0.06246895,  0.01278454,  0.06236072,  0.02231398,\n",
       "        0.12502424,  0.17287773,  0.11520494,  0.01676935,  0.06400115,\n",
       "        0.01046931,  0.13615853,  0.19754253, -0.01088423,  0.17895001,\n",
       "        0.14884515,  0.24443587,  0.04763726, -0.09217726,  0.15315728,\n",
       "        0.06695557,  0.26404075,  0.13350554,  0.1977404 ,  0.13302825,\n",
       "       -0.05073974, -0.0972994 ,  0.09687955,  0.10567391,  0.0286245 ])"
      ]
     },
     "execution_count": 31,
     "metadata": {},
     "output_type": "execute_result"
    }
   ],
   "source": [
    "[wr_history3, x, xstorewr] = IGD_wr_task3(y, A)\n",
    "x"
   ]
  },
  {
   "cell_type": "code",
   "execution_count": 32,
   "metadata": {},
   "outputs": [
    {
     "data": {
      "text/plain": [
       "array([ 0.02569091,  0.08846379, -0.03793171, -0.00796436, -0.00380019,\n",
       "       -0.08502828,  0.25044087,  0.17075292,  0.12038266,  0.32127709,\n",
       "        0.10387372,  0.08385007,  0.08257907,  0.34673208,  0.07634335,\n",
       "        0.12324177, -0.00422273, -0.00674818,  0.05864094,  0.19189433,\n",
       "        0.0006194 , -0.00595929,  0.26133846,  0.17939846,  0.19300162,\n",
       "        0.08044933,  0.23963347,  0.00741874,  0.02132614,  0.07633741,\n",
       "        0.22180639,  0.02361793,  0.39069978,  0.03236003,  0.37327327,\n",
       "        0.13469343,  0.03899399, -0.01870176,  0.07764169,  0.12932361,\n",
       "        0.18281193,  0.03876609,  0.29518039,  0.05661898,  0.10148759,\n",
       "        0.24488829,  0.18340334,  0.16459102,  0.10690234,  0.01409549,\n",
       "        0.02992347,  0.21536144,  0.19461371,  0.07492689,  0.1579692 ,\n",
       "        0.12582666,  0.01277411, -0.09561243,  0.09182921,  0.20523591,\n",
       "        0.29374917, -0.0100842 ,  0.12282032, -0.04062849,  0.11155836,\n",
       "        0.11973904,  0.2110222 ,  0.19340037,  0.16416778, -0.08873995,\n",
       "        0.03660488,  0.1391896 ,  0.07433919,  0.1320403 ,  0.06802391,\n",
       "        0.19491201,  0.0544489 ,  0.18794259,  0.15161096,  0.10790734,\n",
       "       -0.05771515,  0.1148265 ,  0.20034194,  0.01231045,  0.00741312,\n",
       "        0.16693739,  0.18797023,  0.02206145, -0.19342889,  0.1014278 ,\n",
       "        0.02154424,  0.09421999,  0.06974879,  0.19543022,  0.12550822,\n",
       "       -0.09542206, -0.08383137,  0.16791136,  0.23591616,  0.04721589])"
      ]
     },
     "execution_count": 32,
     "metadata": {},
     "output_type": "execute_result"
    }
   ],
   "source": [
    "[wo_history3, x, xstorewo] = IGD_wr_task3(y, A)\n",
    "x"
   ]
  },
  {
   "cell_type": "code",
   "execution_count": 33,
   "metadata": {},
   "outputs": [
    {
     "data": {
      "text/plain": [
       "(100, 201)"
      ]
     },
     "execution_count": 33,
     "metadata": {},
     "output_type": "execute_result"
    }
   ],
   "source": [
    "xstorewr.shape"
   ]
  },
  {
   "cell_type": "code",
   "execution_count": 34,
   "metadata": {},
   "outputs": [
    {
     "data": {
      "image/png": "[encoded data removed]",
      "text/plain": [
       "<Figure size 432x288 with 1 Axes>"
      ]
     },
     "metadata": {
      "needs_background": "light"
     },
     "output_type": "display_data"
    }
   ],
   "source": [
    "plt.plot(np.arange(200), wr_history3, 'b', label = 'with replacement')\n",
    "plt.plot(np.arange(200), wo_history3, 'r', label = 'without replacement')\n",
    "plt.legend()\n",
    "plt.show()"
   ]
  },
  {
   "cell_type": "code",
   "execution_count": 35,
   "metadata": {},
   "outputs": [],
   "source": [
    "from numpy import linalg as LA\n",
    "normwr = np.zeros(A.shape[0]+1)\n",
    "normwo = np.zeros(A.shape[0]+1)\n",
    "for i in range(A.shape[0]+1):\n",
    "    normwr[i] = LA.norm(xstorewr[:, i] - xstar)\n",
    "    normwo[i] = LA.norm(xstorewo[:, i] - xstar)\n"
   ]
  },
  {
   "cell_type": "code",
   "execution_count": 36,
   "metadata": {},
   "outputs": [
    {
     "data": {
      "image/png": "[encoded data removed]",
      "text/plain": [
       "<Figure size 432x288 with 1 Axes>"
      ]
     },
     "metadata": {
      "needs_background": "light"
     },
     "output_type": "display_data"
    }
   ],
   "source": [
    "plt.plot(np.arange(201), normwr, 'b', label = 'with replacement')\n",
    "plt.plot(np.arange(201), normwo, 'r', label = 'without replacement')\n",
    "plt.legend()\n",
    "plt.show()"
   ]
  },
  {
   "cell_type": "markdown",
   "metadata": {},
   "source": [
    "## For multiple dimension, by observing the plot of objective function values and convergence rate for each iteration, we can still conclude that without-replacement sampling strategy is better."
   ]
  },
  {
   "cell_type": "code",
   "execution_count": null,
   "metadata": {},
   "outputs": [],
   "source": []
  }
 ],
 "metadata": {
  "kernelspec": {
   "display_name": "Python 3",
   "language": "python",
   "name": "python3"
  },
  "language_info": {
   "codemirror_mode": {
    "name": "ipython",
    "version": 3
   },
   "file_extension": ".py",
   "mimetype": "text/x-python",
   "name": "python",
   "nbconvert_exporter": "python",
   "pygments_lexer": "ipython3",
   "version": "3.7.1"
  }
 },
 "nbformat": 4,
 "nbformat_minor": 2
}
