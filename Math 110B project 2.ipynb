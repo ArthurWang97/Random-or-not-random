{
 "cells": [
  {
   "cell_type": "markdown",
   "metadata": {},
   "source": [
    "# Math 110B Project 2\n",
    "# Yuxuan Wang 32614564"
   ]
  },
  {
   "cell_type": "code",
   "execution_count": 3,
   "metadata": {},
   "outputs": [],
   "source": [
    "# generate a vector of random numbers which obeys the given distribution.\n",
    "#\n",
    "# n: length of the vector\n",
    "# mu: mean value\n",
    "# sigma: standard deviation.\n",
    "# dist: choices for the distribution, you need to implement at least normal \n",
    "#       distribution and uniform distribution.\n",
    "#\n",
    "# For normal distribution, you can use ``numpy.random.normal`` to generate.\n",
    "# For uniform distribution, the interval to sample will be [mu - sigma/sqrt(3), mu + sigma/sqrt(3)].\n",
    "\n",
    "import numpy as np\n",
    "import matplotlib.pyplot as plt\n",
    "\n",
    "def generate_random_numbers(n, mu, sigma, dist=\"normal\"):\n",
    "    low = mu - (sigma/np.sqrt(3))\n",
    "    high = mu + (sigma/np.sqrt(3))\n",
    "    if dist == \"normal\":\n",
    "        return np.random.normal(mu, sigma, n)\n",
    "    elif dist == \"uniform\":\n",
    "        return np.random.uniform(low, high, n)\n",
    "    else:\n",
    "        raise Exception(\"The distribution {unknown_dist} is not implemented\".format(unknown_dist=dist))\n",
    "        \n",
    "        \n"
   ]
  },
  {
   "cell_type": "code",
   "execution_count": 4,
   "metadata": {},
   "outputs": [
    {
     "data": {
      "text/plain": [
       "array([ 0.05569652, -0.03390491, -0.13075975,  0.0395575 , -0.01435809])"
      ]
     },
     "execution_count": 4,
     "metadata": {},
     "output_type": "execute_result"
    }
   ],
   "source": [
    "# test your code:\n",
    "y_test = generate_random_numbers(5, 0, 0.1, \"normal\")\n",
    "y_test"
   ]
  },
  {
   "cell_type": "markdown",
   "metadata": {},
   "source": [
    "# Task 1"
   ]
  },
  {
   "cell_type": "code",
   "execution_count": 5,
   "metadata": {},
   "outputs": [],
   "source": [
    "np.random.seed(42)\n",
    "y1 = generate_random_numbers(105, 0.5, 1.0, \"normal\")\n",
    "y2 = generate_random_numbers(105, 0.5, 1.0, \"uniform\")\n"
   ]
  },
  {
   "cell_type": "code",
   "execution_count": 6,
   "metadata": {},
   "outputs": [
    {
     "name": "stdout",
     "output_type": "stream",
     "text": [
      "y1 is : [ 9.96714153e-01  3.61735699e-01  1.14768854e+00  2.02302986e+00\n",
      "  2.65846625e-01  2.65863043e-01  2.07921282e+00  1.26743473e+00\n",
      "  3.05256141e-02  1.04256004e+00  3.65823072e-02  3.42702464e-02\n",
      "  7.41962272e-01 -1.41328024e+00 -1.22491783e+00 -6.22875292e-02\n",
      " -5.12831120e-01  8.14247333e-01 -4.08024076e-01 -9.12303701e-01\n",
      "  1.96564877e+00  2.74223700e-01  5.67528205e-01 -9.24748186e-01\n",
      " -4.43827245e-02  6.10922590e-01 -6.50993577e-01  8.75698018e-01\n",
      " -1.00638690e-01  2.08306250e-01 -1.01706612e-01  2.35227818e+00\n",
      "  4.86502775e-01 -5.57710929e-01  1.32254491e+00 -7.20843650e-01\n",
      "  7.08863595e-01 -1.45967012e+00 -8.28186049e-01  6.96861236e-01\n",
      "  1.23846658e+00  6.71368281e-01  3.84351718e-01  1.98896304e-01\n",
      " -9.78521990e-01 -2.19844208e-01  3.93612290e-02  1.55712223e+00\n",
      "  8.43618290e-01 -1.26304016e+00  8.24083969e-01  1.14917720e-01\n",
      " -1.76922000e-01  1.11167629e+00  1.53099952e+00  1.43128012e+00\n",
      " -3.39217523e-01  1.90787624e-01  8.31263431e-01  1.47554513e+00\n",
      "  2.08257622e-02  3.14341023e-01 -6.06334974e-01 -6.96206624e-01\n",
      "  1.31252582e+00  1.85624003e+00  4.27989878e-01  1.50353290e+00\n",
      "  8.61636025e-01 -1.45119755e-01  8.61395606e-01  2.03803657e+00\n",
      "  4.64173961e-01  2.06464366e+00 -2.11974510e+00  1.32190250e+00\n",
      "  5.87047068e-01  2.00992650e-01  5.91760777e-01 -1.48756891e+00\n",
      "  2.80328112e-01  8.57112572e-01  1.97789404e+00 -1.82702183e-02\n",
      " -3.08493603e-01 -1.75704358e-03  1.41540212e+00  8.28751110e-01\n",
      " -2.97602038e-02  1.01326743e+00  5.97077549e-01  1.46864499e+00\n",
      " -2.02053094e-01  1.72337853e-01  1.07891847e-01 -9.63514948e-01\n",
      "  7.96120277e-01  7.61055272e-01  5.05113457e-01  2.65412867e-01\n",
      " -9.15370742e-01  7.93546772e-02  1.57285483e-01 -3.02277269e-01\n",
      "  3.38714288e-01]\n",
      "mean of y1 is: 0.3711719495081947\n",
      "y2 is : [ 0.52169754  0.7344261   0.34253303  1.04476702  1.03398814  0.21338288\n",
      "  0.49682285  0.27007408  0.2515552  -0.03475689  0.626514    0.50309347\n",
      " -0.01790773  0.24440295  0.97142484  0.19927197  0.08995992  0.4878211\n",
      "  1.06078084  0.20215108  0.69876501  0.80209231  0.19704993  0.76352154\n",
      "  0.34732911  0.65277361  0.65418683  0.54130905  0.02690738  0.88717397\n",
      "  0.29305464  0.13802276 -0.03026719  0.60495413  0.70503366 -0.05819629\n",
      "  0.51396386  0.18418452  0.6676311   0.12399074  0.72047591  0.36921324\n",
      "  1.00429235  0.08144524  0.31647923  0.05367767  0.99039395  0.93571395\n",
      "  0.22049507  0.68473366  0.86629665  0.56374041  0.53423754  0.2019167\n",
      "  0.03015555  0.95866525  0.96236295  0.65369232  0.31412761  0.32588221\n",
      "  0.76091114  0.95854343  0.9469689   0.82317244  0.66400402  0.01980619\n",
      "  0.10928249  0.96021074  0.62289369 -0.06673043  0.03981898  0.68879558\n",
      " -0.07150566  0.10833487  0.55627293  0.72158149  0.67546975  0.18161362\n",
      "  0.74500346  0.19660138  0.29838894  0.78462376  0.67278119  0.90324846\n",
      "  0.68199569  0.57887598  0.03081604  0.34725137  0.22887905  0.2043847\n",
      "  1.04618554  0.37655989  0.95269637  0.65142584  0.84041877  0.50304505\n",
      "  0.58880096  0.49136018  0.14809691  0.75686558  0.24685773 -0.04927261\n",
      "  0.66797694  0.12715953  1.00859776]\n",
      "mean of y2 is: 0.49021475410775794\n"
     ]
    }
   ],
   "source": [
    "print(\"y1 is :\", y1)\n",
    "print(\"mean of y1 is:\", np.mean(y1))\n",
    "print(\"y2 is :\", y2)\n",
    "print(\"mean of y2 is:\", np.mean(y2))\n"
   ]
  },
  {
   "cell_type": "code",
   "execution_count": 7,
   "metadata": {},
   "outputs": [],
   "source": [
    "# Two orderings to experiment with\n",
    "# Random ordering with replacement In this case, we do not choose the fixed ordering, we sample a number in  {1,2,…,n}  each time and follow the iteration.\n",
    "\n",
    "# Random ordering without replacement In this case, we do not choose the fixed ordering, we sample an ordering without replacement from  {1,2,…,n}  and then follow the iteration."
   ]
  },
  {
   "cell_type": "code",
   "execution_count": 8,
   "metadata": {},
   "outputs": [],
   "source": [
    "# IGD, the ordering is permitted to have replacement. \n",
    "#\n",
    "#\n",
    "def IGD_wr_task1(y):\n",
    "    n = len(y)\n",
    "#     np.random.seed(42)\n",
    "    ordering = np.random.choice(n, n, replace=True)\n",
    "    history = np.zeros(n)\n",
    "    x = 0\n",
    "    for i in range(n):\n",
    "        a = 0\n",
    "        for j in range(n):\n",
    "            a += (x - y[j])**2\n",
    "        history[i] = (1/2)*a\n",
    "        x = x - (1/(i+1))*(x - y[ordering[i]])\n",
    "    \n",
    "    return history, x\n",
    "    # implement the algorithm's iteration of IGD. Your result should return the the final xk\n",
    "    # at the last iteration and also the history of objective function at each xk.\n",
    "    \n",
    "\n",
    "\n",
    "# IGD, the ordering is not permitted to have replacement.\n",
    "#\n",
    "#\n",
    "def IGD_wo_task1(y):\n",
    "    n = len(y)\n",
    "#     np.random.seed(42)\n",
    "    ordering = np.random.choice(n, n, replace = False)\n",
    "    history = np.zeros(n)\n",
    "    x = 0\n",
    "    for i in range(n):\n",
    "        a = 0\n",
    "        for j in range(n):\n",
    "            a += (x - y[j])**2\n",
    "        history[i] = (1/2)*a\n",
    "        x = x - (1/(i+1))*(x - y[ordering[i]])\n",
    "    \n",
    "    return history, x\n",
    "    # implement the algorithm's iteration of IGD. Your result should return the the final xk\n",
    "    # at the last iteration and also the history of objective function at each xk.\n",
    "    "
   ]
  },
  {
   "cell_type": "code",
   "execution_count": 9,
   "metadata": {},
   "outputs": [
    {
     "data": {
      "text/plain": [
       "0.3376512751971612"
      ]
     },
     "execution_count": 9,
     "metadata": {},
     "output_type": "execute_result"
    }
   ],
   "source": [
    "[wr_history1, x] = IGD_wr_task1(y1)\n",
    "x"
   ]
  },
  {
   "cell_type": "code",
   "execution_count": 10,
   "metadata": {},
   "outputs": [
    {
     "data": {
      "text/plain": [
       "0.5122155073238648"
      ]
     },
     "execution_count": 10,
     "metadata": {},
     "output_type": "execute_result"
    }
   ],
   "source": [
    "[wr_history2, x] = IGD_wr_task1(y2)\n",
    "x"
   ]
  },
  {
   "cell_type": "code",
   "execution_count": 11,
   "metadata": {},
   "outputs": [
    {
     "data": {
      "text/plain": [
       "0.3711719495081946"
      ]
     },
     "execution_count": 11,
     "metadata": {},
     "output_type": "execute_result"
    }
   ],
   "source": [
    "[wo_history1, x] = IGD_wo_task1(y1)\n",
    "x"
   ]
  },
  {
   "cell_type": "code",
   "execution_count": 12,
   "metadata": {},
   "outputs": [
    {
     "data": {
      "text/plain": [
       "0.49021475410775756"
      ]
     },
     "execution_count": 12,
     "metadata": {},
     "output_type": "execute_result"
    }
   ],
   "source": [
    "[wo_history2, x] = IGD_wo_task1(y2)\n",
    "x"
   ]
  },
  {
   "cell_type": "code",
   "execution_count": 13,
   "metadata": {
    "scrolled": true
   },
   "outputs": [
    {
     "data": {
      "image/png": "[encoded data removed]",
      "text/plain": [
       "<Figure size 432x288 with 1 Axes>"
      ]
     },
     "metadata": {
      "needs_background": "light"
     },
     "output_type": "display_data"
    }
   ],
   "source": [
    "plt.plot(np.arange(105), wr_history1)\n",
    "plt.plot(np.arange(105), wo_history1, 'r')\n",
    "\n",
    "plt.show()"
   ]
  },
  {
   "cell_type": "code",
   "execution_count": 14,
   "metadata": {
    "scrolled": true
   },
   "outputs": [
    {
     "data": {
      "image/png": "[encoded data removed]",
      "text/plain": [
       "<Figure size 432x288 with 1 Axes>"
      ]
     },
     "metadata": {
      "needs_background": "light"
     },
     "output_type": "display_data"
    }
   ],
   "source": [
    "plt.plot(np.arange(105), wr_history2)\n",
    "plt.plot(np.arange(105), wo_history2, 'r')\n",
    "\n",
    "plt.show()"
   ]
  },
  {
   "cell_type": "markdown",
   "metadata": {},
   "source": [
    "# The steps are chosen using a without-replacement sampling strategy is better since it converges to the smaple mean: 0.3711 and 0.4902, for sample y1 and y2 respectively."
   ]
  },
  {
   "cell_type": "markdown",
   "metadata": {},
   "source": [
    "# Task 2"
   ]
  },
  {
   "cell_type": "code",
   "execution_count": 37,
   "metadata": {},
   "outputs": [],
   "source": [
    "# IGD, the ordering is permitted to have replacement. \n",
    "#\n",
    "#\n",
    "beta = np.random.uniform(1,2,105)\n",
    "\n",
    "def IGD_wr_task2(beta, y):\n",
    "    n = len(beta)\n",
    "    ordering = np.random.choice(n, n, replace=True)\n",
    "    np.random.seed(42)\n",
    "    gamma = 0.7*min(1/beta)\n",
    "    \n",
    "    history = np.zeros(n)\n",
    "    subsqrt = np.zeros(n)\n",
    "    x = 0\n",
    "    \n",
    "    for i in range(n):\n",
    "        a = 0\n",
    "        for j in range(n):\n",
    "            a += beta[j]*((x - y)**2)\n",
    "        subsqrt[i] = a\n",
    "        history[i] = (1/2)*subsqrt[i]\n",
    "        x = x - gamma * beta[ordering[i]]*(x - y)\n",
    "        print(x)    \n",
    "    return history, x\n",
    "    # implement the algorithm's iteration of IGD. Your result should return the the final xk\n",
    "    # at the last iteration and also the history of objective function at each xk.\n",
    "\n",
    "\n",
    "# IGD, the ordering is not permitted to have replacement.\n",
    "#\n",
    "#\n",
    "def IGD_wo_task2(beta, y):\n",
    "    n = len(beta)\n",
    "    ordering = np.random.choice(n, n, replace=False)\n",
    "    np.random.seed(42)\n",
    "    beta = np.random.uniform(1,2,n)\n",
    "    gamma = 0.7*min(1/beta)\n",
    "    \n",
    "    history = np.zeros(n)\n",
    "    subsqrt = np.zeros(n)\n",
    "    x = 0\n",
    "    \n",
    "    for i in range(n):\n",
    "        a = 0\n",
    "        for j in range(n):\n",
    "            a += beta[j]*((x - y)**2)\n",
    "        subsqrt[i] = a\n",
    "        history[i] = (1/2)*subsqrt[i]\n",
    "        x = x - gamma * beta[ordering[i]]*(x - y)\n",
    "        print(x)\n",
    "    return history, x\n",
    "    # implement the algorithm's iteration of IGD. Your result should return the the final xk\n",
    "    # at the last iteration and also the history of objective function at each xk.\n"
   ]
  },
  {
   "cell_type": "code",
   "execution_count": 38,
   "metadata": {},
   "outputs": [
    {
     "name": "stdout",
     "output_type": "stream",
     "text": [
      "22.76176961337864\n",
      "35.37472269801214\n",
      "41.464229999405326\n",
      "44.574880958649615\n",
      "47.618500053466754\n",
      "49.135792595866356\n",
      "49.6937143014555\n",
      "49.82002262559704\n",
      "49.932396796543166\n",
      "49.95729126750598\n",
      "49.977230917455046\n",
      "49.989377763760125\n",
      "49.99515102511579\n",
      "49.99770529864073\n",
      "49.99872295438003\n",
      "49.999294954466095\n",
      "49.999565330064314\n",
      "49.9997423573718\n",
      "49.99987980451752\n",
      "49.99994392638318\n",
      "49.999981645565406\n",
      "49.999988523011865\n",
      "49.99999275428901\n",
      "49.99999599970738\n",
      "49.999998405254516\n",
      "49.99999936783197\n",
      "49.99999978815025\n",
      "49.99999988624953\n",
      "49.99999993719938\n",
      "49.99999997089027\n",
      "49.99999998498707\n",
      "49.99999999133239\n",
      "49.99999999521469\n",
      "49.99999999820089\n",
      "49.999999999409994\n",
      "49.99999999977001\n",
      "49.99999999987651\n",
      "49.99999999996295\n",
      "49.9999999999786\n",
      "49.999999999987644\n",
      "49.999999999994614\n",
      "49.99999999999703\n",
      "49.999999999998394\n",
      "49.999999999999254\n",
      "49.99999999999977\n",
      "49.99999999999993\n",
      "49.999999999999964\n",
      "49.99999999999998\n",
      "49.999999999999986\n",
      "49.99999999999999\n",
      "50.0\n",
      "50.0\n",
      "50.0\n",
      "50.0\n",
      "50.0\n",
      "50.0\n",
      "50.0\n",
      "50.0\n",
      "50.0\n",
      "50.0\n",
      "50.0\n",
      "50.0\n",
      "50.0\n",
      "50.0\n",
      "50.0\n",
      "50.0\n",
      "50.0\n",
      "50.0\n",
      "50.0\n",
      "50.0\n",
      "50.0\n",
      "50.0\n",
      "50.0\n",
      "50.0\n",
      "50.0\n",
      "50.0\n",
      "50.0\n",
      "50.0\n",
      "50.0\n",
      "50.0\n",
      "50.0\n",
      "50.0\n",
      "50.0\n",
      "50.0\n",
      "50.0\n",
      "50.0\n",
      "50.0\n",
      "50.0\n",
      "50.0\n",
      "50.0\n",
      "50.0\n",
      "50.0\n",
      "50.0\n",
      "50.0\n",
      "50.0\n",
      "50.0\n",
      "50.0\n",
      "50.0\n",
      "50.0\n",
      "50.0\n",
      "50.0\n",
      "50.0\n",
      "50.0\n",
      "50.0\n",
      "50.0\n"
     ]
    },
    {
     "data": {
      "text/plain": [
       "50.0"
      ]
     },
     "execution_count": 38,
     "metadata": {},
     "output_type": "execute_result"
    }
   ],
   "source": [
    "[wr_history2, x] = IGD_wr_task2(beta, 50)\n",
    "x"
   ]
  },
  {
   "cell_type": "code",
   "execution_count": 39,
   "metadata": {},
   "outputs": [
    {
     "name": "stdout",
     "output_type": "stream",
     "text": [
      "28.317700811308306\n",
      "40.10218546982799\n",
      "44.56893009331038\n",
      "48.19453038701465\n",
      "49.2520356667632\n",
      "49.71871254861121\n",
      "49.90775307796634\n",
      "49.95715453889333\n",
      "49.97256014085066\n",
      "49.9858482804992\n",
      "49.9929876595498\n",
      "49.99587945950906\n",
      "49.99801668471756\n",
      "49.9990806815989\n",
      "49.999428548553794\n",
      "49.99966128749743\n",
      "49.999883614942746\n",
      "49.999963526288205\n",
      "49.9999870732694\n",
      "49.99999253684242\n",
      "49.99999544987069\n",
      "49.999998530742225\n",
      "49.99999919960037\n",
      "49.99999969907866\n",
      "49.999999832531465\n",
      "49.9999998918581\n",
      "49.99999993694518\n",
      "49.999999959923954\n",
      "49.99999997576622\n",
      "49.99999999034941\n",
      "49.99999999485503\n",
      "49.999999998425736\n",
      "49.999999999262435\n",
      "49.99999999961543\n",
      "49.99999999983118\n",
      "49.99999999989755\n",
      "49.99999999993927\n",
      "49.9999999999784\n",
      "49.999999999986684\n",
      "49.99999999999344\n",
      "49.99999999999762\n",
      "49.999999999998714\n",
      "49.99999999999923\n",
      "49.999999999999766\n",
      "49.99999999999992\n",
      "49.99999999999997\n",
      "49.999999999999986\n",
      "49.99999999999999\n",
      "50.0\n",
      "50.0\n",
      "50.0\n",
      "50.0\n",
      "50.0\n",
      "50.0\n",
      "50.0\n",
      "50.0\n",
      "50.0\n",
      "50.0\n",
      "50.0\n",
      "50.0\n",
      "50.0\n",
      "50.0\n",
      "50.0\n",
      "50.0\n",
      "50.0\n",
      "50.0\n",
      "50.0\n",
      "50.0\n",
      "50.0\n",
      "50.0\n",
      "50.0\n",
      "50.0\n",
      "50.0\n",
      "50.0\n",
      "50.0\n",
      "50.0\n",
      "50.0\n",
      "50.0\n",
      "50.0\n",
      "50.0\n",
      "50.0\n",
      "50.0\n",
      "50.0\n",
      "50.0\n",
      "50.0\n",
      "50.0\n",
      "50.0\n",
      "50.0\n",
      "50.0\n",
      "50.0\n",
      "50.0\n",
      "50.0\n",
      "50.0\n",
      "50.0\n",
      "50.0\n",
      "50.0\n",
      "50.0\n",
      "50.0\n",
      "50.0\n",
      "50.0\n",
      "50.0\n",
      "50.0\n",
      "50.0\n",
      "50.0\n",
      "50.0\n"
     ]
    },
    {
     "data": {
      "text/plain": [
       "50.0"
      ]
     },
     "execution_count": 39,
     "metadata": {},
     "output_type": "execute_result"
    }
   ],
   "source": [
    "[wo_history2, x] = IGD_wo_task2(beta, 50)\n",
    "x"
   ]
  },
  {
   "cell_type": "code",
   "execution_count": 40,
   "metadata": {},
   "outputs": [
    {
     "data": {
      "image/png": "[encoded data removed]",
      "text/plain": [
       "<Figure size 432x288 with 1 Axes>"
      ]
     },
     "metadata": {
      "needs_background": "light"
     },
     "output_type": "display_data"
    }
   ],
   "source": [
    "plt.plot(np.arange(105), wr_history2)\n",
    "plt.plot(np.arange(105), wo_history2, 'r')\n",
    "\n",
    "plt.show()"
   ]
  },
  {
   "cell_type": "markdown",
   "metadata": {},
   "source": [
    "# The steps are chosen using a without-replacement sampling strategy is better . Even though, the plot showing that two strategys objection function values for each step is nearly overlaping, we print out the x values for each iteration will find out that without-replacement sampling strategy is converging faster. Also, if we change the parameter 0.95 into 0.1, we will find that the red line, representing without-replacement strategy objection function value, is below the blue line which shows converging faster."
   ]
  },
  {
   "cell_type": "markdown",
   "metadata": {},
   "source": [
    "# Task 3"
   ]
  },
  {
   "cell_type": "code",
   "execution_count": 41,
   "metadata": {},
   "outputs": [],
   "source": [
    "# generation of exact solution and data y and matrix A.\n",
    "\n",
    "def generate_problem_task3(m, n, rho):\n",
    "    A = np.random.normal(0., 1.0, (m, n))\n",
    "    x = np.random.random(n) # uniform in (0,1)\n",
    "    w = np.random.normal(0., rho, m)\n",
    "    y = A@x + w\n",
    "    return A, x, y"
   ]
  },
  {
   "cell_type": "code",
   "execution_count": 44,
   "metadata": {},
   "outputs": [],
   "source": [
    "# We generate the problem with 200x100 matrix. rho as 0.01.\n",
    "#\n",
    "A, xstar, y = generate_problem_task3(200, 100, 0.01)"
   ]
  },
  {
   "cell_type": "code",
   "execution_count": 57,
   "metadata": {},
   "outputs": [],
   "source": [
    "# In these two functions, we could only focus on the first n steps and try to make comparisons on these data only.\n",
    "# In practice, it requires more iterations to converge, due to the matrix might not be easy to deal with.\n",
    "# You can put the ordering loop into a naive loop: namely, we simply perform the IGD code several rounds.\n",
    "#\n",
    "#\n",
    "#\n",
    "# IGD, the ordering is permitted to have replacement. \n",
    "#\n",
    "#\n",
    "def IGD_wr_task3(y, A):\n",
    "    n = A.shape[0]\n",
    "    \n",
    "    ordering = np.random.choice(n, n, replace = True)\n",
    "    x = np.zeros(A.shape[1])\n",
    "    rho = 1e-3\n",
    "    history = np.zeros(n)\n",
    "    xstore = np.zeros([A.shape[1], n+1])\n",
    "    \n",
    "    for i in range(n):\n",
    "        s = 0\n",
    "        for j in range(n):\n",
    "            a = A[j,:]\n",
    "            s += (np.matmul(a, x) - y[j])**2\n",
    "        history[i] = s\n",
    "        v = A[ordering[i], :]\n",
    "        k = rho * ((v @ x) - y[ordering[i]]) # scalar\n",
    "        x = x - k * v\n",
    "        xstore[:, i+1] = x\n",
    "        \n",
    "    return history, x, xstore\n",
    "    # implement the algorithm's iteration of IGD. Your result should return the the final xk\n",
    "    # at the last iteration and also the history of objective function at each xk.\n",
    "\n",
    "\n",
    "# IGD, the ordering is not permitted to have replacement.\n",
    "#\n",
    "#\n",
    "def IGD_wo_task3(y, A):\n",
    "    n = A.shape[0]\n",
    "    \n",
    "    ordering = np.random.choice(n, n, replace = False)\n",
    "    x = np.zeros(A.shape[1])\n",
    "    rho = 1e-3\n",
    "    history = np.zeros(n)\n",
    "    xstore = np.zeros([A.shape[1], n+1])\n",
    "    \n",
    "    for i in range(n):\n",
    "        s = 0\n",
    "        for j in range(n):\n",
    "            a = A[j,:]\n",
    "            s += (np.matmul(a, x) - y[j])**2\n",
    "        history[i] = s\n",
    "        v = A[ordering[i], :]\n",
    "        k = rho * ((v @ x) - y[ordering[i]]) # scalar\n",
    "        x = x - k * v\n",
    "        xstore[:, i+1] = x\n",
    "        \n",
    "    return history, x, xstore\n",
    "    # implement the algorithm's iteration of IGD. Your result should return the the final xk\n",
    "    # at the last iteration and also the history of objective function at each xk.\n"
   ]
  },
  {
   "cell_type": "code",
   "execution_count": 58,
   "metadata": {},
   "outputs": [
    {
     "data": {
      "text/plain": [
       "array([ 8.59872207e-02,  1.01898593e-01, -1.10937944e-01,  2.29041311e-01,\n",
       "        1.69125947e-01,  1.44542297e-02, -3.73737782e-02,  2.12048790e-01,\n",
       "        8.88236908e-03,  1.93158157e-01,  1.69906320e-01,  2.61382054e-01,\n",
       "        1.54467307e-01,  1.43409359e-01,  1.81426500e-01,  2.09903020e-01,\n",
       "        1.61164811e-01,  1.61031582e-01,  1.49438190e-01, -4.60867301e-02,\n",
       "       -1.13555911e-01,  1.31645059e-01,  1.19590496e-01,  1.01133722e-01,\n",
       "        2.53493111e-01, -6.13561600e-02, -1.22856366e-01,  1.59453351e-01,\n",
       "        1.35893846e-01, -4.38318151e-02, -2.61498712e-02,  4.54931833e-01,\n",
       "        3.87047404e-02, -9.67257723e-02,  9.32957574e-02,  6.05581069e-02,\n",
       "        5.60194915e-03,  7.59012579e-02,  2.27171815e-01, -3.50767637e-02,\n",
       "        4.59292600e-02,  3.28487697e-01,  1.37885270e-01,  1.83815635e-01,\n",
       "        2.67265548e-01, -1.09875541e-02, -1.41407199e-02,  7.87878461e-02,\n",
       "        2.70572473e-03, -5.85572044e-02,  2.85960051e-01,  1.71587759e-01,\n",
       "        6.04168546e-02,  1.05887993e-01,  1.89180551e-01, -4.60314255e-02,\n",
       "        1.16783972e-01, -7.53741914e-03,  5.36165850e-02, -6.18766343e-02,\n",
       "        2.50546145e-01,  2.13205798e-01,  1.62417979e-01,  1.69387037e-01,\n",
       "        2.16763361e-01,  1.11218732e-01,  5.43927159e-03,  5.32635524e-02,\n",
       "        3.91284940e-02,  3.13597178e-01,  1.42155163e-01,  3.02719363e-01,\n",
       "        1.81155094e-01, -8.15932394e-02,  1.57386891e-01, -2.61813356e-02,\n",
       "        2.25399235e-01,  1.01349260e-01,  1.20162845e-01, -5.20661624e-03,\n",
       "        9.46983179e-02,  1.61140664e-01,  6.14060745e-02,  1.07012078e-01,\n",
       "        1.17405716e-01,  8.64026585e-02,  1.45621583e-01, -2.39524566e-02,\n",
       "        9.73764792e-02,  4.89565741e-02,  1.53761788e-02,  4.00593852e-01,\n",
       "       -1.13150686e-05,  3.04043045e-02,  1.32289503e-02,  1.51696952e-01,\n",
       "       -3.17969479e-02,  7.22939655e-02,  2.48021458e-01,  1.03449135e-01])"
      ]
     },
     "execution_count": 58,
     "metadata": {},
     "output_type": "execute_result"
    }
   ],
   "source": [
    "[wr_history3, x, xstorewr] = IGD_wr_task3(y, A)\n",
    "x"
   ]
  },
  {
   "cell_type": "code",
   "execution_count": 59,
   "metadata": {},
   "outputs": [
    {
     "data": {
      "text/plain": [
       "array([ 0.17268208,  0.10314661,  0.02997623,  0.24084057,  0.05447138,\n",
       "        0.13804691, -0.12762724,  0.39454396,  0.03821259,  0.35169405,\n",
       "        0.20200214,  0.03393164,  0.09864541,  0.08458666,  0.29991966,\n",
       "        0.17111607,  0.20110905,  0.29201711,  0.17704369, -0.09456724,\n",
       "       -0.13082753,  0.05536471,  0.26727756,  0.16469821,  0.23493771,\n",
       "        0.05676188, -0.0536527 ,  0.28311687, -0.02324912,  0.06937091,\n",
       "        0.0480948 ,  0.33763006,  0.07251646, -0.02874426,  0.09271391,\n",
       "        0.07259648,  0.03702635,  0.12258835,  0.13024073,  0.00553743,\n",
       "        0.24135174,  0.25494507,  0.10585025,  0.26492786,  0.42196485,\n",
       "       -0.06887426, -0.19151458,  0.11567477, -0.20923858,  0.10028287,\n",
       "        0.33846427,  0.1993084 ,  0.0210266 ,  0.10791011,  0.41224105,\n",
       "        0.09466938, -0.04253044,  0.0721747 ,  0.08739445,  0.02123898,\n",
       "        0.21192618,  0.23533018,  0.08675639,  0.20343417,  0.17449522,\n",
       "        0.1021916 ,  0.02735625,  0.02567282, -0.04134483,  0.40371389,\n",
       "        0.22324047,  0.3968047 ,  0.14477658, -0.19487305,  0.1973588 ,\n",
       "       -0.00791785,  0.27027928, -0.05169815,  0.01494048,  0.03132066,\n",
       "       -0.01366674,  0.21516797, -0.03027708,  0.03500359,  0.01607092,\n",
       "        0.02242271,  0.20477166,  0.01429389,  0.25601412,  0.06260398,\n",
       "        0.09653368,  0.28935279,  0.11777432,  0.08752955,  0.08537216,\n",
       "        0.20215754,  0.01653539, -0.01435416,  0.17316105,  0.13263669])"
      ]
     },
     "execution_count": 59,
     "metadata": {},
     "output_type": "execute_result"
    }
   ],
   "source": [
    "[wo_history3, x, xstorewo] = IGD_wr_task3(y, A)\n",
    "x"
   ]
  },
  {
   "cell_type": "code",
   "execution_count": 60,
   "metadata": {},
   "outputs": [
    {
     "data": {
      "text/plain": [
       "(100, 201)"
      ]
     },
     "execution_count": 60,
     "metadata": {},
     "output_type": "execute_result"
    }
   ],
   "source": [
    "xstorewr.shape"
   ]
  },
  {
   "cell_type": "code",
   "execution_count": 61,
   "metadata": {},
   "outputs": [
    {
     "data": {
      "image/png": "[encoded data removed]",
      "text/plain": [
       "<Figure size 432x288 with 1 Axes>"
      ]
     },
     "metadata": {
      "needs_background": "light"
     },
     "output_type": "display_data"
    }
   ],
   "source": [
    "plt.plot(np.arange(200), wr_history3)\n",
    "plt.plot(np.arange(200), wo_history3, 'r')\n",
    "\n",
    "plt.show()"
   ]
  },
  {
   "cell_type": "code",
   "execution_count": 62,
   "metadata": {},
   "outputs": [],
   "source": [
    "from numpy import linalg as LA\n",
    "normwr = np.zeros(A.shape[0]+1)\n",
    "normwo = np.zeros(A.shape[0]+1)\n",
    "for i in range(A.shape[0]+1):\n",
    "    normwr[i] = LA.norm(xstorewr[:, i] - xstar)\n",
    "    normwo[i] = LA.norm(xstorewo[:, i] - xstar)\n"
   ]
  },
  {
   "cell_type": "code",
   "execution_count": 64,
   "metadata": {},
   "outputs": [
    {
     "data": {
      "image/png": "[encoded data removed]",
      "text/plain": [
       "<Figure size 432x288 with 1 Axes>"
      ]
     },
     "metadata": {
      "needs_background": "light"
     },
     "output_type": "display_data"
    }
   ],
   "source": [
    "plt.plot(np.arange(201), normwr)\n",
    "plt.plot(np.arange(201), normwo, 'r')\n",
    "\n",
    "plt.show()"
   ]
  },
  {
   "cell_type": "code",
   "execution_count": null,
   "metadata": {},
   "outputs": [],
   "source": []
  }
 ],
 "metadata": {
  "kernelspec": {
   "display_name": "Python 3",
   "language": "python",
   "name": "python3"
  },
  "language_info": {
   "codemirror_mode": {
    "name": "ipython",
    "version": 3
   },
   "file_extension": ".py",
   "mimetype": "text/x-python",
   "name": "python",
   "nbconvert_exporter": "python",
   "pygments_lexer": "ipython3",
   "version": "3.7.1"
  }
 },
 "nbformat": 4,
 "nbformat_minor": 2
}
